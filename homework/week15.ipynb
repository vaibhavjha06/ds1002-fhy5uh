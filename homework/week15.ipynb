{
  "nbformat": 4,
  "nbformat_minor": 0,
  "metadata": {
    "colab": {
      "provenance": [],
      "include_colab_link": true
    },
    "kernelspec": {
      "name": "ir",
      "display_name": "R"
    },
    "language_info": {
      "name": "R"
    }
  },
  "cells": [
    {
      "cell_type": "markdown",
      "metadata": {
        "id": "view-in-github",
        "colab_type": "text"
      },
      "source": [
        "<a href=\"https://colab.research.google.com/github/vaibhavjha06/ds1002-fhy5uh/blob/main/homework/week15.ipynb\" target=\"_parent\"><img src=\"https://colab.research.google.com/assets/colab-badge.svg\" alt=\"Open In Colab\"/></a>"
      ]
    },
    {
      "cell_type": "markdown",
      "source": [
        "# Homework - Week 15\n",
        "\n",
        "Complete the following blocks as specified in the directions. Run each cell to return the desired output. Save your notebook back to your GitHub repository and submit the GitHub URL to your notebook for review."
      ],
      "metadata": {
        "id": "sZruw3XQogej"
      }
    },
    {
      "cell_type": "markdown",
      "source": [
        "## 1. Create Functions (4 pts)\n",
        "\n",
        "Create two functions in the cells below, according to the prompts given."
      ],
      "metadata": {
        "id": "lkaofBQypx1X"
      }
    },
    {
      "cell_type": "code",
      "source": [
        "# create a function in R that:\n",
        "#   1. takes a single integer as an input parameter\n",
        "#   2. determines whether the integer is even or odd\n",
        "#   3. returns a character statement \"The integer <x> is even\" or \"The integer <x> is odd\" (replace <x> with the actual input provided)\n",
        "#\n",
        "# then execute the function twice using two different input values, displaying even and odd results.\n",
        "\n",
        "even_or_odd <- function(var1) {\n",
        "  if (var1 %% 2 == 0) {\n",
        "    sprintf(\"The integer %i is even\", var1)\n",
        "  } else {\n",
        "    sprintf(\"The integer %i is odd\", var1)\n",
        "  }\n",
        "}\n",
        "\n",
        "even_or_odd(4)\n",
        "even_or_odd(3)\n",
        "\n"
      ],
      "metadata": {
        "id": "1fjq5bkEp6Zv",
        "colab": {
          "base_uri": "https://localhost:8080/",
          "height": 51
        },
        "outputId": "dcd9d124-59c4-41a1-a528-acdcf04eeb1a"
      },
      "execution_count": 1,
      "outputs": [
        {
          "output_type": "display_data",
          "data": {
            "text/html": [
              "'The integer 4 is even'"
            ],
            "text/markdown": "'The integer 4 is even'",
            "text/latex": "'The integer 4 is even'",
            "text/plain": [
              "[1] \"The integer 4 is even\""
            ]
          },
          "metadata": {}
        },
        {
          "output_type": "display_data",
          "data": {
            "text/html": [
              "'The integer 3 is odd'"
            ],
            "text/markdown": "'The integer 3 is odd'",
            "text/latex": "'The integer 3 is odd'",
            "text/plain": [
              "[1] \"The integer 3 is odd\""
            ]
          },
          "metadata": {}
        }
      ]
    },
    {
      "cell_type": "code",
      "source": [
        "# create a function in R that:\n",
        "#   1. takes 4 integer input parameters\n",
        "#   2. returns the mean value of the inputs\n",
        "#   3. has default values for the 4 input parameters, in case they are not provided when the function is called.\n",
        "#\n",
        "# then execute the function twice: once where you provide the input values, and once where you do not.\n",
        "\n",
        "sum <- function(dar1 = 2, dar2 = 3, dar3 = 4, dar4 = 5) {\n",
        "  df = c(dar1, dar2, dar3, dar4)\n",
        "  mean_value = mean(df)\n",
        "  mean_value\n",
        "}\n",
        "\n",
        "sum()\n",
        "sum(4,7,6,9)\n"
      ],
      "metadata": {
        "id": "f3IFD-T6p6Rd",
        "colab": {
          "base_uri": "https://localhost:8080/",
          "height": 51
        },
        "outputId": "0e14f54a-df2b-47fd-cb61-2948f760a7ce"
      },
      "execution_count": 10,
      "outputs": [
        {
          "output_type": "display_data",
          "data": {
            "text/html": [
              "3.5"
            ],
            "text/markdown": "3.5",
            "text/latex": "3.5",
            "text/plain": [
              "[1] 3.5"
            ]
          },
          "metadata": {}
        },
        {
          "output_type": "display_data",
          "data": {
            "text/html": [
              "6.5"
            ],
            "text/markdown": "6.5",
            "text/latex": "6.5",
            "text/plain": [
              "[1] 6.5"
            ]
          },
          "metadata": {}
        }
      ]
    },
    {
      "cell_type": "markdown",
      "source": [
        "## 2. Plot Data (4 pts)"
      ],
      "metadata": {
        "id": "F6Rx0GIGrpOB"
      }
    },
    {
      "cell_type": "markdown",
      "source": [
        "In the cell below, write the code required to plot from the `msleep` sample data set.\n",
        "\n",
        "1. Display only animals with body weights of 30 or greater.\n",
        "2. Group the animals by `order`.\n",
        "3. Display the mean `sleep_total` for each group in a bar plot."
      ],
      "metadata": {
        "id": "IDLyOjOJsFCX"
      }
    },
    {
      "cell_type": "code",
      "source": [
        "#\n",
        "msleep\n",
        "\n",
        "df <- df[df$bodywt >= 30,]\n",
        "# filtered for bodywt >= 30\n",
        "\n",
        "library(dplyr)\n",
        "\n",
        "\n",
        "# I tried. I really tried professor. But I am just not able to read in the data for some reason.\n",
        "# Following that, I would group_by(sleep_total) and plot the mean accordingly, but nothing is running quite right because of the msleep file being unable to be ran.\n"
      ],
      "metadata": {
        "id": "0D5Ia-BPsoPZ"
      },
      "execution_count": null,
      "outputs": []
    },
    {
      "cell_type": "markdown",
      "source": [
        "## 3. Clean and Analyze Data Using R (4 pts)\n",
        "\n",
        "In the cells below use R to perform the following data cleaning steps on this file:\n",
        "https://raw.githubusercontent.com/nmagee/ds1002/main/data/social-media-users.csv\n",
        "\n",
        "1. Remove any duplicate rows.\n",
        "2. Remove any records where `last_login` or `birthdate` are empty.\n",
        "3. Display only the records with the 10 highest `follower` counts.\n",
        "4. Determine counts of users when grouped by continent."
      ],
      "metadata": {
        "id": "-2ZaFcCCv3o8"
      }
    },
    {
      "cell_type": "code",
      "source": [
        "#\n",
        "df <- read.csv(\"https://raw.githubusercontent.com/nmagee/ds1002/main/data/social-media-users.csv\")\n",
        "df\n",
        "\n",
        "df <- df[!duplicated(df),]\n",
        "# removed duplicates"
      ],
      "metadata": {
        "id": "V4nBsdVsyauQ"
      },
      "execution_count": null,
      "outputs": []
    },
    {
      "cell_type": "code",
      "source": [
        "#\n",
        "df[df==\"\"] <- NA\n",
        "# filled in empty cells with NA\n",
        "\n",
        "library(dplyr)\n",
        "df_nona <- na.omit(df)\n",
        "\n",
        "df_nona\n",
        "# removed all rows with empty birthdates and last_login\n"
      ],
      "metadata": {
        "id": "LwXD1sNulIT3"
      },
      "execution_count": null,
      "outputs": []
    },
    {
      "cell_type": "code",
      "source": [
        "#\n",
        " library(dplyr)\n",
        " df_nona %>%\n",
        "    arrange(desc(followers)) %>%\n",
        "    slice(1:10)\n"
      ],
      "metadata": {
        "id": "7qa100btlI4Z"
      },
      "execution_count": null,
      "outputs": []
    },
    {
      "cell_type": "code",
      "source": [
        "#\n",
        "\n",
        "df_nona %>%\n",
        "  group_by(continent) %>%\n",
        "  summarize(n = n())"
      ],
      "metadata": {
        "id": "MjrZisnxlJUa"
      },
      "execution_count": null,
      "outputs": []
    }
  ]
}