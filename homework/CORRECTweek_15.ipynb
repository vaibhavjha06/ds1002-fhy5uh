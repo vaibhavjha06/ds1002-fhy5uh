{
  "nbformat": 4,
  "nbformat_minor": 0,
  "metadata": {
    "colab": {
      "provenance": [],
      "include_colab_link": true
    },
    "kernelspec": {
      "name": "ir",
      "display_name": "R"
    },
    "language_info": {
      "name": "R"
    }
  },
  "cells": [
    {
      "cell_type": "markdown",
      "metadata": {
        "id": "view-in-github",
        "colab_type": "text"
      },
      "source": [
        "<a href=\"https://colab.research.google.com/github/vaibhavjha06/ds1002-fhy5uh/blob/main/homework/CORRECTweek_15.ipynb\" target=\"_parent\"><img src=\"https://colab.research.google.com/assets/colab-badge.svg\" alt=\"Open In Colab\"/></a>"
      ]
    },
    {
      "cell_type": "markdown",
      "source": [
        "# Homework - Week 15\n",
        "\n",
        "Complete the following blocks as specified in the directions. Run each cell to return the desired output. Save your notebook back to your GitHub repository and submit the GitHub URL to your notebook for review."
      ],
      "metadata": {
        "id": "sZruw3XQogej"
      }
    },
    {
      "cell_type": "markdown",
      "source": [
        "## 1. Create Functions (4 pts)\n",
        "\n",
        "Create two functions in the cells below, according to the prompts given."
      ],
      "metadata": {
        "id": "lkaofBQypx1X"
      }
    },
    {
      "cell_type": "code",
      "source": [
        "# create a function in R that:\n",
        "#   1. takes a single integer as an input parameter\n",
        "#   2. determines whether the integer is even or odd\n",
        "#   3. returns a character statement \"The integer <x> is even\" or \"The integer <x> is odd\" (replace <x> with the actual input provided)\n",
        "#\n",
        "# then execute the function twice using two different input values, displaying even and odd results.\n",
        "\n",
        "even_or_odd <- function(var1) {\n",
        "  if (var1 %% 2 == 0) {\n",
        "    sprintf(\"The integer %i is even\", var1)\n",
        "  } else {\n",
        "    sprintf(\"The integer %i is odd\", var1)\n",
        "  }\n",
        "}\n",
        "\n",
        "even_or_odd(4)\n",
        "even_or_odd(3)\n",
        "\n"
      ],
      "metadata": {
        "id": "1fjq5bkEp6Zv",
        "colab": {
          "base_uri": "https://localhost:8080/",
          "height": 51
        },
        "outputId": "dcd9d124-59c4-41a1-a528-acdcf04eeb1a"
      },
      "execution_count": null,
      "outputs": [
        {
          "output_type": "display_data",
          "data": {
            "text/html": [
              "'The integer 4 is even'"
            ],
            "text/markdown": "'The integer 4 is even'",
            "text/latex": "'The integer 4 is even'",
            "text/plain": [
              "[1] \"The integer 4 is even\""
            ]
          },
          "metadata": {}
        },
        {
          "output_type": "display_data",
          "data": {
            "text/html": [
              "'The integer 3 is odd'"
            ],
            "text/markdown": "'The integer 3 is odd'",
            "text/latex": "'The integer 3 is odd'",
            "text/plain": [
              "[1] \"The integer 3 is odd\""
            ]
          },
          "metadata": {}
        }
      ]
    },
    {
      "cell_type": "code",
      "source": [
        "# create a function in R that:\n",
        "#   1. takes 4 integer input parameters\n",
        "#   2. returns the mean value of the inputs\n",
        "#   3. has default values for the 4 input parameters, in case they are not provided when the function is called.\n",
        "#\n",
        "# then execute the function twice: once where you provide the input values, and once where you do not.\n",
        "\n",
        "sum <- function(dar1 = 2, dar2 = 3, dar3 = 4, dar4 = 5) {\n",
        "  df = c(dar1, dar2, dar3, dar4)\n",
        "  mean_value = mean(df)\n",
        "  mean_value\n",
        "}\n",
        "\n",
        "sum()\n",
        "sum(4,7,6,9)\n"
      ],
      "metadata": {
        "id": "f3IFD-T6p6Rd",
        "colab": {
          "base_uri": "https://localhost:8080/",
          "height": 51
        },
        "outputId": "0e14f54a-df2b-47fd-cb61-2948f760a7ce"
      },
      "execution_count": null,
      "outputs": [
        {
          "output_type": "display_data",
          "data": {
            "text/html": [
              "3.5"
            ],
            "text/markdown": "3.5",
            "text/latex": "3.5",
            "text/plain": [
              "[1] 3.5"
            ]
          },
          "metadata": {}
        },
        {
          "output_type": "display_data",
          "data": {
            "text/html": [
              "6.5"
            ],
            "text/markdown": "6.5",
            "text/latex": "6.5",
            "text/plain": [
              "[1] 6.5"
            ]
          },
          "metadata": {}
        }
      ]
    },
    {
      "cell_type": "markdown",
      "source": [
        "## 2. Plot Data (4 pts)"
      ],
      "metadata": {
        "id": "F6Rx0GIGrpOB"
      }
    },
    {
      "cell_type": "markdown",
      "source": [
        "In the cell below, write the code required to plot from the `msleep` sample data set.\n",
        "\n",
        "1. Display only animals with body weights of 30 or greater.\n",
        "2. Group the animals by `order`.\n",
        "3. Display the mean `sleep_total` for each group in a bar plot."
      ],
      "metadata": {
        "id": "IDLyOjOJsFCX"
      }
    },
    {
      "cell_type": "code",
      "source": [
        "#\n",
        "library(tidyverse)\n",
        "library(dplyr)\n",
        "library(ggplot2)\n",
        "\n",
        "df <- msleep\n",
        "#df\n",
        "\n",
        "df <- df[df$bodywt >= 30,]\n",
        "#df\n",
        "# filtered for bodywt >= 30\n",
        "\n",
        "df\n",
        "\n",
        "df %>%\n",
        "  group_by(order) %>%\n",
        "  ggplot(aes(x = order, y = mean(sleep_total))) +\n",
        "  geom_col()"
      ],
      "metadata": {
        "id": "0D5Ia-BPsoPZ",
        "colab": {
          "base_uri": "https://localhost:8080/",
          "height": 1000
        },
        "outputId": "d040ae46-5340-4aa5-9d84-4855888d4e04"
      },
      "execution_count": 50,
      "outputs": [
        {
          "output_type": "display_data",
          "data": {
            "text/html": [
              "<table class=\"dataframe\">\n",
              "<caption>A tibble: 22 × 11</caption>\n",
              "<thead>\n",
              "\t<tr><th scope=col>name</th><th scope=col>genus</th><th scope=col>vore</th><th scope=col>order</th><th scope=col>conservation</th><th scope=col>sleep_total</th><th scope=col>sleep_rem</th><th scope=col>sleep_cycle</th><th scope=col>awake</th><th scope=col>brainwt</th><th scope=col>bodywt</th></tr>\n",
              "\t<tr><th scope=col>&lt;chr&gt;</th><th scope=col>&lt;chr&gt;</th><th scope=col>&lt;chr&gt;</th><th scope=col>&lt;chr&gt;</th><th scope=col>&lt;chr&gt;</th><th scope=col>&lt;dbl&gt;</th><th scope=col>&lt;dbl&gt;</th><th scope=col>&lt;dbl&gt;</th><th scope=col>&lt;dbl&gt;</th><th scope=col>&lt;dbl&gt;</th><th scope=col>&lt;dbl&gt;</th></tr>\n",
              "</thead>\n",
              "<tbody>\n",
              "\t<tr><td>Cheetah             </td><td>Acinonyx     </td><td>carni  </td><td>Carnivora     </td><td>lc          </td><td>12.1</td><td> NA</td><td>       NA</td><td>11.90</td><td>   NA</td><td>  50.000</td></tr>\n",
              "\t<tr><td>Cow                 </td><td>Bos          </td><td>herbi  </td><td>Artiodactyla  </td><td>domesticated</td><td> 4.0</td><td>0.7</td><td>0.6666667</td><td>20.00</td><td>0.423</td><td> 600.000</td></tr>\n",
              "\t<tr><td>Goat                </td><td>Capri        </td><td>herbi  </td><td>Artiodactyla  </td><td>lc          </td><td> 5.3</td><td>0.6</td><td>       NA</td><td>18.70</td><td>0.115</td><td>  33.500</td></tr>\n",
              "\t<tr><td>Asian elephant      </td><td>Elephas      </td><td>herbi  </td><td>Proboscidea   </td><td>en          </td><td> 3.9</td><td> NA</td><td>       NA</td><td>20.10</td><td>4.603</td><td>2547.000</td></tr>\n",
              "\t<tr><td>Horse               </td><td>Equus        </td><td>herbi  </td><td>Perissodactyla</td><td>domesticated</td><td> 2.9</td><td>0.6</td><td>1.0000000</td><td>21.10</td><td>0.655</td><td> 521.000</td></tr>\n",
              "\t<tr><td>Donkey              </td><td>Equus        </td><td>herbi  </td><td>Perissodactyla</td><td>domesticated</td><td> 3.1</td><td>0.4</td><td>       NA</td><td>20.90</td><td>0.419</td><td> 187.000</td></tr>\n",
              "\t<tr><td>Giraffe             </td><td>Giraffa      </td><td>herbi  </td><td>Artiodactyla  </td><td>cd          </td><td> 1.9</td><td>0.4</td><td>       NA</td><td>22.10</td><td>   NA</td><td> 899.995</td></tr>\n",
              "\t<tr><td>Pilot whale         </td><td>Globicephalus</td><td>carni  </td><td>Cetacea       </td><td>cd          </td><td> 2.7</td><td>0.1</td><td>       NA</td><td>21.35</td><td>   NA</td><td> 800.000</td></tr>\n",
              "\t<tr><td>Gray seal           </td><td>Haliochoerus </td><td>carni  </td><td>Carnivora     </td><td>lc          </td><td> 6.2</td><td>1.5</td><td>       NA</td><td>17.80</td><td>0.325</td><td>  85.000</td></tr>\n",
              "\t<tr><td>Human               </td><td>Homo         </td><td>omni   </td><td>Primates      </td><td>NA          </td><td> 8.0</td><td>1.9</td><td>1.5000000</td><td>16.00</td><td>1.320</td><td>  62.000</td></tr>\n",
              "\t<tr><td>African elephant    </td><td>Loxodonta    </td><td>herbi  </td><td>Proboscidea   </td><td>vu          </td><td> 3.3</td><td> NA</td><td>       NA</td><td>20.70</td><td>5.712</td><td>6654.000</td></tr>\n",
              "\t<tr><td>Sheep               </td><td>Ovis         </td><td>herbi  </td><td>Artiodactyla  </td><td>domesticated</td><td> 3.8</td><td>0.6</td><td>       NA</td><td>20.20</td><td>0.175</td><td>  55.500</td></tr>\n",
              "\t<tr><td>Chimpanzee          </td><td>Pan          </td><td>omni   </td><td>Primates      </td><td>NA          </td><td> 9.7</td><td>1.4</td><td>1.4166667</td><td>14.30</td><td>0.440</td><td>  52.200</td></tr>\n",
              "\t<tr><td>Tiger               </td><td>Panthera     </td><td>carni  </td><td>Carnivora     </td><td>en          </td><td>15.8</td><td> NA</td><td>       NA</td><td> 8.20</td><td>   NA</td><td> 162.564</td></tr>\n",
              "\t<tr><td>Jaguar              </td><td>Panthera     </td><td>carni  </td><td>Carnivora     </td><td>nt          </td><td>10.4</td><td> NA</td><td>       NA</td><td>13.60</td><td>0.157</td><td> 100.000</td></tr>\n",
              "\t<tr><td>Lion                </td><td>Panthera     </td><td>carni  </td><td>Carnivora     </td><td>vu          </td><td>13.5</td><td> NA</td><td>       NA</td><td>10.50</td><td>   NA</td><td> 161.499</td></tr>\n",
              "\t<tr><td>Caspian seal        </td><td>Phoca        </td><td>carni  </td><td>Carnivora     </td><td>vu          </td><td> 3.5</td><td>0.4</td><td>       NA</td><td>20.50</td><td>   NA</td><td>  86.000</td></tr>\n",
              "\t<tr><td>Common porpoise     </td><td>Phocoena     </td><td>carni  </td><td>Cetacea       </td><td>vu          </td><td> 5.6</td><td> NA</td><td>       NA</td><td>18.45</td><td>   NA</td><td>  53.180</td></tr>\n",
              "\t<tr><td>Giant armadillo     </td><td>Priodontes   </td><td>insecti</td><td>Cingulata     </td><td>en          </td><td>18.1</td><td>6.1</td><td>       NA</td><td> 5.90</td><td>0.081</td><td>  60.000</td></tr>\n",
              "\t<tr><td>Pig                 </td><td>Sus          </td><td>omni   </td><td>Artiodactyla  </td><td>domesticated</td><td> 9.1</td><td>2.4</td><td>0.5000000</td><td>14.90</td><td>0.180</td><td>  86.250</td></tr>\n",
              "\t<tr><td>Brazilian tapir     </td><td>Tapirus      </td><td>herbi  </td><td>Perissodactyla</td><td>vu          </td><td> 4.4</td><td>1.0</td><td>0.9000000</td><td>19.60</td><td>0.169</td><td> 207.501</td></tr>\n",
              "\t<tr><td>Bottle-nosed dolphin</td><td>Tursiops     </td><td>carni  </td><td>Cetacea       </td><td>NA          </td><td> 5.2</td><td> NA</td><td>       NA</td><td>18.80</td><td>   NA</td><td> 173.330</td></tr>\n",
              "</tbody>\n",
              "</table>\n"
            ],
            "text/markdown": "\nA tibble: 22 × 11\n\n| name &lt;chr&gt; | genus &lt;chr&gt; | vore &lt;chr&gt; | order &lt;chr&gt; | conservation &lt;chr&gt; | sleep_total &lt;dbl&gt; | sleep_rem &lt;dbl&gt; | sleep_cycle &lt;dbl&gt; | awake &lt;dbl&gt; | brainwt &lt;dbl&gt; | bodywt &lt;dbl&gt; |\n|---|---|---|---|---|---|---|---|---|---|---|\n| Cheetah              | Acinonyx      | carni   | Carnivora      | lc           | 12.1 |  NA |        NA | 11.90 |    NA |   50.000 |\n| Cow                  | Bos           | herbi   | Artiodactyla   | domesticated |  4.0 | 0.7 | 0.6666667 | 20.00 | 0.423 |  600.000 |\n| Goat                 | Capri         | herbi   | Artiodactyla   | lc           |  5.3 | 0.6 |        NA | 18.70 | 0.115 |   33.500 |\n| Asian elephant       | Elephas       | herbi   | Proboscidea    | en           |  3.9 |  NA |        NA | 20.10 | 4.603 | 2547.000 |\n| Horse                | Equus         | herbi   | Perissodactyla | domesticated |  2.9 | 0.6 | 1.0000000 | 21.10 | 0.655 |  521.000 |\n| Donkey               | Equus         | herbi   | Perissodactyla | domesticated |  3.1 | 0.4 |        NA | 20.90 | 0.419 |  187.000 |\n| Giraffe              | Giraffa       | herbi   | Artiodactyla   | cd           |  1.9 | 0.4 |        NA | 22.10 |    NA |  899.995 |\n| Pilot whale          | Globicephalus | carni   | Cetacea        | cd           |  2.7 | 0.1 |        NA | 21.35 |    NA |  800.000 |\n| Gray seal            | Haliochoerus  | carni   | Carnivora      | lc           |  6.2 | 1.5 |        NA | 17.80 | 0.325 |   85.000 |\n| Human                | Homo          | omni    | Primates       | NA           |  8.0 | 1.9 | 1.5000000 | 16.00 | 1.320 |   62.000 |\n| African elephant     | Loxodonta     | herbi   | Proboscidea    | vu           |  3.3 |  NA |        NA | 20.70 | 5.712 | 6654.000 |\n| Sheep                | Ovis          | herbi   | Artiodactyla   | domesticated |  3.8 | 0.6 |        NA | 20.20 | 0.175 |   55.500 |\n| Chimpanzee           | Pan           | omni    | Primates       | NA           |  9.7 | 1.4 | 1.4166667 | 14.30 | 0.440 |   52.200 |\n| Tiger                | Panthera      | carni   | Carnivora      | en           | 15.8 |  NA |        NA |  8.20 |    NA |  162.564 |\n| Jaguar               | Panthera      | carni   | Carnivora      | nt           | 10.4 |  NA |        NA | 13.60 | 0.157 |  100.000 |\n| Lion                 | Panthera      | carni   | Carnivora      | vu           | 13.5 |  NA |        NA | 10.50 |    NA |  161.499 |\n| Caspian seal         | Phoca         | carni   | Carnivora      | vu           |  3.5 | 0.4 |        NA | 20.50 |    NA |   86.000 |\n| Common porpoise      | Phocoena      | carni   | Cetacea        | vu           |  5.6 |  NA |        NA | 18.45 |    NA |   53.180 |\n| Giant armadillo      | Priodontes    | insecti | Cingulata      | en           | 18.1 | 6.1 |        NA |  5.90 | 0.081 |   60.000 |\n| Pig                  | Sus           | omni    | Artiodactyla   | domesticated |  9.1 | 2.4 | 0.5000000 | 14.90 | 0.180 |   86.250 |\n| Brazilian tapir      | Tapirus       | herbi   | Perissodactyla | vu           |  4.4 | 1.0 | 0.9000000 | 19.60 | 0.169 |  207.501 |\n| Bottle-nosed dolphin | Tursiops      | carni   | Cetacea        | NA           |  5.2 |  NA |        NA | 18.80 |    NA |  173.330 |\n\n",
            "text/latex": "A tibble: 22 × 11\n\\begin{tabular}{lllllllllll}\n name & genus & vore & order & conservation & sleep\\_total & sleep\\_rem & sleep\\_cycle & awake & brainwt & bodywt\\\\\n <chr> & <chr> & <chr> & <chr> & <chr> & <dbl> & <dbl> & <dbl> & <dbl> & <dbl> & <dbl>\\\\\n\\hline\n\t Cheetah              & Acinonyx      & carni   & Carnivora      & lc           & 12.1 &  NA &        NA & 11.90 &    NA &   50.000\\\\\n\t Cow                  & Bos           & herbi   & Artiodactyla   & domesticated &  4.0 & 0.7 & 0.6666667 & 20.00 & 0.423 &  600.000\\\\\n\t Goat                 & Capri         & herbi   & Artiodactyla   & lc           &  5.3 & 0.6 &        NA & 18.70 & 0.115 &   33.500\\\\\n\t Asian elephant       & Elephas       & herbi   & Proboscidea    & en           &  3.9 &  NA &        NA & 20.10 & 4.603 & 2547.000\\\\\n\t Horse                & Equus         & herbi   & Perissodactyla & domesticated &  2.9 & 0.6 & 1.0000000 & 21.10 & 0.655 &  521.000\\\\\n\t Donkey               & Equus         & herbi   & Perissodactyla & domesticated &  3.1 & 0.4 &        NA & 20.90 & 0.419 &  187.000\\\\\n\t Giraffe              & Giraffa       & herbi   & Artiodactyla   & cd           &  1.9 & 0.4 &        NA & 22.10 &    NA &  899.995\\\\\n\t Pilot whale          & Globicephalus & carni   & Cetacea        & cd           &  2.7 & 0.1 &        NA & 21.35 &    NA &  800.000\\\\\n\t Gray seal            & Haliochoerus  & carni   & Carnivora      & lc           &  6.2 & 1.5 &        NA & 17.80 & 0.325 &   85.000\\\\\n\t Human                & Homo          & omni    & Primates       & NA           &  8.0 & 1.9 & 1.5000000 & 16.00 & 1.320 &   62.000\\\\\n\t African elephant     & Loxodonta     & herbi   & Proboscidea    & vu           &  3.3 &  NA &        NA & 20.70 & 5.712 & 6654.000\\\\\n\t Sheep                & Ovis          & herbi   & Artiodactyla   & domesticated &  3.8 & 0.6 &        NA & 20.20 & 0.175 &   55.500\\\\\n\t Chimpanzee           & Pan           & omni    & Primates       & NA           &  9.7 & 1.4 & 1.4166667 & 14.30 & 0.440 &   52.200\\\\\n\t Tiger                & Panthera      & carni   & Carnivora      & en           & 15.8 &  NA &        NA &  8.20 &    NA &  162.564\\\\\n\t Jaguar               & Panthera      & carni   & Carnivora      & nt           & 10.4 &  NA &        NA & 13.60 & 0.157 &  100.000\\\\\n\t Lion                 & Panthera      & carni   & Carnivora      & vu           & 13.5 &  NA &        NA & 10.50 &    NA &  161.499\\\\\n\t Caspian seal         & Phoca         & carni   & Carnivora      & vu           &  3.5 & 0.4 &        NA & 20.50 &    NA &   86.000\\\\\n\t Common porpoise      & Phocoena      & carni   & Cetacea        & vu           &  5.6 &  NA &        NA & 18.45 &    NA &   53.180\\\\\n\t Giant armadillo      & Priodontes    & insecti & Cingulata      & en           & 18.1 & 6.1 &        NA &  5.90 & 0.081 &   60.000\\\\\n\t Pig                  & Sus           & omni    & Artiodactyla   & domesticated &  9.1 & 2.4 & 0.5000000 & 14.90 & 0.180 &   86.250\\\\\n\t Brazilian tapir      & Tapirus       & herbi   & Perissodactyla & vu           &  4.4 & 1.0 & 0.9000000 & 19.60 & 0.169 &  207.501\\\\\n\t Bottle-nosed dolphin & Tursiops      & carni   & Cetacea        & NA           &  5.2 &  NA &        NA & 18.80 &    NA &  173.330\\\\\n\\end{tabular}\n",
            "text/plain": [
              "   name                 genus         vore    order          conservation\n",
              "1  Cheetah              Acinonyx      carni   Carnivora      lc          \n",
              "2  Cow                  Bos           herbi   Artiodactyla   domesticated\n",
              "3  Goat                 Capri         herbi   Artiodactyla   lc          \n",
              "4  Asian elephant       Elephas       herbi   Proboscidea    en          \n",
              "5  Horse                Equus         herbi   Perissodactyla domesticated\n",
              "6  Donkey               Equus         herbi   Perissodactyla domesticated\n",
              "7  Giraffe              Giraffa       herbi   Artiodactyla   cd          \n",
              "8  Pilot whale          Globicephalus carni   Cetacea        cd          \n",
              "9  Gray seal            Haliochoerus  carni   Carnivora      lc          \n",
              "10 Human                Homo          omni    Primates       NA          \n",
              "11 African elephant     Loxodonta     herbi   Proboscidea    vu          \n",
              "12 Sheep                Ovis          herbi   Artiodactyla   domesticated\n",
              "13 Chimpanzee           Pan           omni    Primates       NA          \n",
              "14 Tiger                Panthera      carni   Carnivora      en          \n",
              "15 Jaguar               Panthera      carni   Carnivora      nt          \n",
              "16 Lion                 Panthera      carni   Carnivora      vu          \n",
              "17 Caspian seal         Phoca         carni   Carnivora      vu          \n",
              "18 Common porpoise      Phocoena      carni   Cetacea        vu          \n",
              "19 Giant armadillo      Priodontes    insecti Cingulata      en          \n",
              "20 Pig                  Sus           omni    Artiodactyla   domesticated\n",
              "21 Brazilian tapir      Tapirus       herbi   Perissodactyla vu          \n",
              "22 Bottle-nosed dolphin Tursiops      carni   Cetacea        NA          \n",
              "   sleep_total sleep_rem sleep_cycle awake brainwt bodywt  \n",
              "1  12.1         NA              NA   11.90    NA     50.000\n",
              "2   4.0        0.7       0.6666667   20.00 0.423    600.000\n",
              "3   5.3        0.6              NA   18.70 0.115     33.500\n",
              "4   3.9         NA              NA   20.10 4.603   2547.000\n",
              "5   2.9        0.6       1.0000000   21.10 0.655    521.000\n",
              "6   3.1        0.4              NA   20.90 0.419    187.000\n",
              "7   1.9        0.4              NA   22.10    NA    899.995\n",
              "8   2.7        0.1              NA   21.35    NA    800.000\n",
              "9   6.2        1.5              NA   17.80 0.325     85.000\n",
              "10  8.0        1.9       1.5000000   16.00 1.320     62.000\n",
              "11  3.3         NA              NA   20.70 5.712   6654.000\n",
              "12  3.8        0.6              NA   20.20 0.175     55.500\n",
              "13  9.7        1.4       1.4166667   14.30 0.440     52.200\n",
              "14 15.8         NA              NA    8.20    NA    162.564\n",
              "15 10.4         NA              NA   13.60 0.157    100.000\n",
              "16 13.5         NA              NA   10.50    NA    161.499\n",
              "17  3.5        0.4              NA   20.50    NA     86.000\n",
              "18  5.6         NA              NA   18.45    NA     53.180\n",
              "19 18.1        6.1              NA    5.90 0.081     60.000\n",
              "20  9.1        2.4       0.5000000   14.90 0.180     86.250\n",
              "21  4.4        1.0       0.9000000   19.60 0.169    207.501\n",
              "22  5.2         NA              NA   18.80    NA    173.330"
            ]
          },
          "metadata": {}
        },
        {
          "output_type": "display_data",
          "data": {
            "text/plain": [
              "plot without title"
            ],
            "image/png": "[encoded data removed]"
          },
          "metadata": {
            "image/png": {
              "width": 420,
              "height": 420
            }
          }
        }
      ]
    },
    {
      "cell_type": "markdown",
      "source": [
        "## 3. Clean and Analyze Data Using R (4 pts)\n",
        "\n",
        "In the cells below use R to perform the following data cleaning steps on this file:\n",
        "https://raw.githubusercontent.com/nmagee/ds1002/main/data/social-media-users.csv\n",
        "\n",
        "1. Remove any duplicate rows.\n",
        "2. Remove any records where `last_login` or `birthdate` are empty.\n",
        "3. Display only the records with the 10 highest `follower` counts.\n",
        "4. Determine counts of users when grouped by continent."
      ],
      "metadata": {
        "id": "-2ZaFcCCv3o8"
      }
    },
    {
      "cell_type": "code",
      "source": [
        "#\n",
        "df <- read.csv(\"https://raw.githubusercontent.com/nmagee/ds1002/main/data/social-media-users.csv\")\n",
        "df\n",
        "\n",
        "df <- df[!duplicated(df),]\n",
        "# removed duplicates"
      ],
      "metadata": {
        "id": "V4nBsdVsyauQ"
      },
      "execution_count": null,
      "outputs": []
    },
    {
      "cell_type": "code",
      "source": [
        "#\n",
        "df[df==\"\"] <- NA\n",
        "# filled in empty cells with NA\n",
        "\n",
        "library(dplyr)\n",
        "df_nona <- na.omit(df)\n",
        "\n",
        "df_nona\n",
        "# removed all rows with empty birthdates and last_login\n"
      ],
      "metadata": {
        "id": "LwXD1sNulIT3"
      },
      "execution_count": null,
      "outputs": []
    },
    {
      "cell_type": "code",
      "source": [
        "#\n",
        " library(dplyr)\n",
        " df_nona %>%\n",
        "    arrange(desc(followers)) %>%\n",
        "    slice(1:10)\n"
      ],
      "metadata": {
        "id": "7qa100btlI4Z"
      },
      "execution_count": null,
      "outputs": []
    },
    {
      "cell_type": "code",
      "source": [
        "#\n",
        "\n",
        "df_nona %>%\n",
        "  group_by(continent) %>%\n",
        "  summarize(n = n())"
      ],
      "metadata": {
        "id": "MjrZisnxlJUa"
      },
      "execution_count": null,
      "outputs": []
    }
  ]
}