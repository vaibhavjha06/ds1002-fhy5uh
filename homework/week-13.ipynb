{
  "nbformat": 4,
  "nbformat_minor": 0,
  "metadata": {
    "colab": {
      "provenance": [],
      "include_colab_link": true
    },
    "kernelspec": {
      "name": "ir",
      "display_name": "R"
    },
    "language_info": {
      "name": "R"
    }
  },
  "cells": [
    {
      "cell_type": "markdown",
      "metadata": {
        "id": "view-in-github",
        "colab_type": "text"
      },
      "source": [
        "<a href=\"https://colab.research.google.com/github/vaibhavjha06/ds1002-fhy5uh/blob/main/homework/week-13.ipynb\" target=\"_parent\"><img src=\"https://colab.research.google.com/assets/colab-badge.svg\" alt=\"Open In Colab\"/></a>"
      ]
    },
    {
      "cell_type": "markdown",
      "source": [
        "# Homework - Week 13\n",
        "\n",
        "Complete the following blocks as specified in the directions. Run each cell to return the desired output. Save your notebook back to your GitHub repository and submit the GitHub URL to your notebook for review."
      ],
      "metadata": {
        "id": "sZruw3XQogej"
      }
    },
    {
      "cell_type": "markdown",
      "source": [
        "## 1. Change Runtime to R (1 pt)\n",
        "\n",
        "Change the runtime of this notebook to R. You can verify that you are running R by displaying the current version you are running. Run the cell below and show the output."
      ],
      "metadata": {
        "id": "KmpG99aAokL9"
      }
    },
    {
      "cell_type": "code",
      "execution_count": null,
      "metadata": {
        "id": "k03Z1NKAoZrW"
      },
      "outputs": [],
      "source": [
        "version"
      ]
    },
    {
      "cell_type": "markdown",
      "source": [
        "## 2. Create Vectors (2 pts)\n",
        "\n",
        "Create two vectors in the cells below, according to the prompts given."
      ],
      "metadata": {
        "id": "lkaofBQypx1X"
      }
    },
    {
      "cell_type": "code",
      "source": [
        "# create a vector with 7 integer values. Assign it to a variable named \"my_integers\"\n",
        "\n",
        "my_integers <- seq(from=1, to=7, by=1)\n",
        "\n",
        "my_integers"
      ],
      "metadata": {
        "id": "1fjq5bkEp6Zv",
        "outputId": "08d4e8ec-2f8a-4320-bab9-33b0279047ca",
        "colab": {
          "base_uri": "https://localhost:8080/",
          "height": 34
        }
      },
      "execution_count": 6,
      "outputs": [
        {
          "output_type": "display_data",
          "data": {
            "text/html": [
              "<style>\n",
              ".list-inline {list-style: none; margin:0; padding: 0}\n",
              ".list-inline>li {display: inline-block}\n",
              ".list-inline>li:not(:last-child)::after {content: \"\\00b7\"; padding: 0 .5ex}\n",
              "</style>\n",
              "<ol class=list-inline><li>1</li><li>2</li><li>3</li><li>4</li><li>5</li><li>6</li><li>7</li></ol>\n"
            ],
            "text/markdown": "1. 1\n2. 2\n3. 3\n4. 4\n5. 5\n6. 6\n7. 7\n\n\n",
            "text/latex": "\\begin{enumerate*}\n\\item 1\n\\item 2\n\\item 3\n\\item 4\n\\item 5\n\\item 6\n\\item 7\n\\end{enumerate*}\n",
            "text/plain": [
              "[1] 1 2 3 4 5 6 7"
            ]
          },
          "metadata": {}
        }
      ]
    },
    {
      "cell_type": "code",
      "source": [
        "var1 = 8\n",
        "var2 = 4\n",
        "var3 = 12\n",
        "var4 = 25\n",
        "\n",
        "\n",
        "hello <- var2/var1\n",
        "professor <- (var2^3)*var3\n",
        "magee <- var4/var3\n",
        "\n",
        "hello\n",
        "\n",
        "\n",
        "\n",
        "my_calculated_values <- c(hello, professor, magee)\n",
        "my_calculated_values\n",
        "\n",
        "\n",
        "# Using the variables given above, assign three new variables the following calculated values:\n",
        "#\n",
        "# 1. Your first variable should be assigned the calculated value of var2 divided by var1.\n",
        "# 2. Your second variable should be assigned the calculated value of var2 cubed times var3.\n",
        "# 3. Your third variable should be assigned the calculated value of var4 integer divided by var3.\n",
        "#\n",
        "# Next, create an array populated by your three variables. Assign the array to a new variable named \"my_calculated_values\""
      ],
      "metadata": {
        "id": "f3IFD-T6p6Rd"
      },
      "execution_count": null,
      "outputs": []
    },
    {
      "cell_type": "markdown",
      "source": [
        "## 3. Vector Indexes (3 pts)"
      ],
      "metadata": {
        "id": "F6Rx0GIGrpOB"
      }
    },
    {
      "cell_type": "markdown",
      "source": [
        "In the cell below, create a vector that starts with the integer 4, that increments by counts of 3 all the way to 28.\n",
        "\n",
        "Assign the vector to a variable name."
      ],
      "metadata": {
        "id": "IDLyOjOJsFCX"
      }
    },
    {
      "cell_type": "code",
      "source": [
        "#\n",
        "\n",
        "washington <- seq(from=4, to=28, by=3)\n",
        "washington\n"
      ],
      "metadata": {
        "id": "0D5Ia-BPsoPZ",
        "outputId": "1ca13173-bfe5-427e-dfc0-1056b41c3754",
        "colab": {
          "base_uri": "https://localhost:8080/",
          "height": 34
        }
      },
      "execution_count": 18,
      "outputs": [
        {
          "output_type": "display_data",
          "data": {
            "text/html": [
              "<style>\n",
              ".list-inline {list-style: none; margin:0; padding: 0}\n",
              ".list-inline>li {display: inline-block}\n",
              ".list-inline>li:not(:last-child)::after {content: \"\\00b7\"; padding: 0 .5ex}\n",
              "</style>\n",
              "<ol class=list-inline><li>4</li><li>7</li><li>10</li><li>13</li><li>16</li><li>19</li><li>22</li><li>25</li><li>28</li></ol>\n"
            ],
            "text/markdown": "1. 4\n2. 7\n3. 10\n4. 13\n5. 16\n6. 19\n7. 22\n8. 25\n9. 28\n\n\n",
            "text/latex": "\\begin{enumerate*}\n\\item 4\n\\item 7\n\\item 10\n\\item 13\n\\item 16\n\\item 19\n\\item 22\n\\item 25\n\\item 28\n\\end{enumerate*}\n",
            "text/plain": [
              "[1]  4  7 10 13 16 19 22 25 28"
            ]
          },
          "metadata": {}
        }
      ]
    },
    {
      "cell_type": "markdown",
      "source": [
        "Next, show how to display this vector with the 3 index removed."
      ],
      "metadata": {
        "id": "RxFRiRMvtfXI"
      }
    },
    {
      "cell_type": "code",
      "source": [
        "#\n",
        "\n",
        "dc <- washington[-3]\n",
        "dc"
      ],
      "metadata": {
        "id": "MBg7V1LztQlv",
        "outputId": "ce055086-e9b3-4578-fa8c-f62a0de6e36a",
        "colab": {
          "base_uri": "https://localhost:8080/",
          "height": 34
        }
      },
      "execution_count": 35,
      "outputs": [
        {
          "output_type": "display_data",
          "data": {
            "text/html": [
              "<style>\n",
              ".list-inline {list-style: none; margin:0; padding: 0}\n",
              ".list-inline>li {display: inline-block}\n",
              ".list-inline>li:not(:last-child)::after {content: \"\\00b7\"; padding: 0 .5ex}\n",
              "</style>\n",
              "<ol class=list-inline><li>4</li><li>7</li><li>13</li><li>16</li><li>19</li><li>22</li><li>25</li><li>28</li></ol>\n"
            ],
            "text/markdown": "1. 4\n2. 7\n3. 13\n4. 16\n5. 19\n6. 22\n7. 25\n8. 28\n\n\n",
            "text/latex": "\\begin{enumerate*}\n\\item 4\n\\item 7\n\\item 13\n\\item 16\n\\item 19\n\\item 22\n\\item 25\n\\item 28\n\\end{enumerate*}\n",
            "text/plain": [
              "[1]  4  7 13 16 19 22 25 28"
            ]
          },
          "metadata": {}
        }
      ]
    },
    {
      "cell_type": "markdown",
      "source": [
        "Finally, show how to delete the 4th, 5th, and 7th indexes from the vector and update the vector so they are forever removed from the vector.\n",
        "\n",
        "Hint: there is a fairly simple way to do this in one line, such that you don't have to run a separate command for each removal."
      ],
      "metadata": {
        "id": "Rmci-rVCtq-C"
      }
    },
    {
      "cell_type": "code",
      "source": [
        "#\n",
        "\n",
        "wow <- dc[c(-4,-5,-7)]\n",
        "wow"
      ],
      "metadata": {
        "id": "y1k0NHNruFX2",
        "outputId": "c8c83cae-0d02-4c1a-e8e1-809e3b4789c5",
        "colab": {
          "base_uri": "https://localhost:8080/",
          "height": 34
        }
      },
      "execution_count": 37,
      "outputs": [
        {
          "output_type": "display_data",
          "data": {
            "text/html": [
              "<style>\n",
              ".list-inline {list-style: none; margin:0; padding: 0}\n",
              ".list-inline>li {display: inline-block}\n",
              ".list-inline>li:not(:last-child)::after {content: \"\\00b7\"; padding: 0 .5ex}\n",
              "</style>\n",
              "<ol class=list-inline><li>4</li><li>7</li><li>13</li><li>22</li><li>28</li></ol>\n"
            ],
            "text/markdown": "1. 4\n2. 7\n3. 13\n4. 22\n5. 28\n\n\n",
            "text/latex": "\\begin{enumerate*}\n\\item 4\n\\item 7\n\\item 13\n\\item 22\n\\item 28\n\\end{enumerate*}\n",
            "text/plain": [
              "[1]  4  7 13 22 28"
            ]
          },
          "metadata": {}
        }
      ]
    },
    {
      "cell_type": "markdown",
      "source": [
        "## 4. Create a Data Frame (3 pts)\n",
        "\n",
        "In the cell below create a data frame with 10 observations (rows) and 5 variables (columns) each. This data frame will describe some of your favorite musical performers. You can use real or fictitious data to populate your data frame.\n",
        "\n",
        "Variables:\n",
        "  - `artist` - Artist or band name\n",
        "  - `category` - Rock, Pop, Country, Hip-hop, Jazz, Classical, Soul, Other. (Try to distribute your selections here)\n",
        "  - `size` - (number of members, 1-?)\n",
        "  - `start` - Debut year of artist.\n",
        "  - `grammy` - Grammmy winner? `TRUE` | `FALSE`\n",
        "\n",
        "First create vectors for each variable populated with your own performer data. Then create a data frame from these vectors (be sure to assign column names too) and assign it to a named variable such as `df`."
      ],
      "metadata": {
        "id": "-2ZaFcCCv3o8"
      }
    },
    {
      "cell_type": "code",
      "source": [
        "#\n",
        "\n",
        "artist <- c(\"Taylor Swift\", \"Katy Perry\", \"The Weeknd\",\n",
        "           \"Tate McRay\", \"James Arthur\", \"Rascal Flatts\",\n",
        "           \"John Denver\", \"Jay-Z\", \"Drake\", \"Justin Bieber\")\n",
        "category <- c('Country', 'Pop', 'Pop', 'Country', 'Pop', 'Rock', 'Country', 'Rap', 'Rap', 'Pop')\n",
        "size <- c(1,1,1,1,1,1,1,1,1,1)\n",
        "start <- c(2010, 2011, 2017, 2020, 2014, 1989, 1979, 2004, 2008, 2009)\n",
        "grammy <- c(TRUE, TRUE, FALSE, TRUE, TRUE, FALSE, TRUE, TRUE, TRUE, TRUE)\n",
        "\n",
        "df <- data.frame(Artist = artist, Category = category, Size = size, Start = start, Grammy = grammy)\n",
        "\n",
        "\n",
        "df\n",
        "\n"
      ],
      "metadata": {
        "id": "V4nBsdVsyauQ",
        "outputId": "748be21d-df03-4649-979c-dcbf18668134",
        "colab": {
          "base_uri": "https://localhost:8080/",
          "height": 407
        }
      },
      "execution_count": 52,
      "outputs": [
        {
          "output_type": "display_data",
          "data": {
            "text/html": [
              "<table class=\"dataframe\">\n",
              "<caption>A data.frame: 10 × 5</caption>\n",
              "<thead>\n",
              "\t<tr><th scope=col>Artist</th><th scope=col>Category</th><th scope=col>Size</th><th scope=col>Start</th><th scope=col>Grammy</th></tr>\n",
              "\t<tr><th scope=col>&lt;chr&gt;</th><th scope=col>&lt;chr&gt;</th><th scope=col>&lt;dbl&gt;</th><th scope=col>&lt;dbl&gt;</th><th scope=col>&lt;lgl&gt;</th></tr>\n",
              "</thead>\n",
              "<tbody>\n",
              "\t<tr><td>Taylor Swift </td><td>Country</td><td>1</td><td>2010</td><td> TRUE</td></tr>\n",
              "\t<tr><td>Katy Perry   </td><td>Pop    </td><td>1</td><td>2011</td><td> TRUE</td></tr>\n",
              "\t<tr><td>The Weeknd   </td><td>Pop    </td><td>1</td><td>2017</td><td>FALSE</td></tr>\n",
              "\t<tr><td>Tate McRay   </td><td>Country</td><td>1</td><td>2020</td><td> TRUE</td></tr>\n",
              "\t<tr><td>James Arthur </td><td>Pop    </td><td>1</td><td>2014</td><td> TRUE</td></tr>\n",
              "\t<tr><td>Rascal Flatts</td><td>Rock   </td><td>1</td><td>1989</td><td>FALSE</td></tr>\n",
              "\t<tr><td>John Denver  </td><td>Country</td><td>1</td><td>1979</td><td> TRUE</td></tr>\n",
              "\t<tr><td>Jay-Z        </td><td>Rap    </td><td>1</td><td>2004</td><td> TRUE</td></tr>\n",
              "\t<tr><td>Drake        </td><td>Rap    </td><td>1</td><td>2008</td><td> TRUE</td></tr>\n",
              "\t<tr><td>Justin Bieber</td><td>Pop    </td><td>1</td><td>2009</td><td> TRUE</td></tr>\n",
              "</tbody>\n",
              "</table>\n"
            ],
            "text/markdown": "\nA data.frame: 10 × 5\n\n| Artist &lt;chr&gt; | Category &lt;chr&gt; | Size &lt;dbl&gt; | Start &lt;dbl&gt; | Grammy &lt;lgl&gt; |\n|---|---|---|---|---|\n| Taylor Swift  | Country | 1 | 2010 |  TRUE |\n| Katy Perry    | Pop     | 1 | 2011 |  TRUE |\n| The Weeknd    | Pop     | 1 | 2017 | FALSE |\n| Tate McRay    | Country | 1 | 2020 |  TRUE |\n| James Arthur  | Pop     | 1 | 2014 |  TRUE |\n| Rascal Flatts | Rock    | 1 | 1989 | FALSE |\n| John Denver   | Country | 1 | 1979 |  TRUE |\n| Jay-Z         | Rap     | 1 | 2004 |  TRUE |\n| Drake         | Rap     | 1 | 2008 |  TRUE |\n| Justin Bieber | Pop     | 1 | 2009 |  TRUE |\n\n",
            "text/latex": "A data.frame: 10 × 5\n\\begin{tabular}{lllll}\n Artist & Category & Size & Start & Grammy\\\\\n <chr> & <chr> & <dbl> & <dbl> & <lgl>\\\\\n\\hline\n\t Taylor Swift  & Country & 1 & 2010 &  TRUE\\\\\n\t Katy Perry    & Pop     & 1 & 2011 &  TRUE\\\\\n\t The Weeknd    & Pop     & 1 & 2017 & FALSE\\\\\n\t Tate McRay    & Country & 1 & 2020 &  TRUE\\\\\n\t James Arthur  & Pop     & 1 & 2014 &  TRUE\\\\\n\t Rascal Flatts & Rock    & 1 & 1989 & FALSE\\\\\n\t John Denver   & Country & 1 & 1979 &  TRUE\\\\\n\t Jay-Z         & Rap     & 1 & 2004 &  TRUE\\\\\n\t Drake         & Rap     & 1 & 2008 &  TRUE\\\\\n\t Justin Bieber & Pop     & 1 & 2009 &  TRUE\\\\\n\\end{tabular}\n",
            "text/plain": [
              "   Artist        Category Size Start Grammy\n",
              "1  Taylor Swift  Country  1    2010   TRUE \n",
              "2  Katy Perry    Pop      1    2011   TRUE \n",
              "3  The Weeknd    Pop      1    2017  FALSE \n",
              "4  Tate McRay    Country  1    2020   TRUE \n",
              "5  James Arthur  Pop      1    2014   TRUE \n",
              "6  Rascal Flatts Rock     1    1989  FALSE \n",
              "7  John Denver   Country  1    1979   TRUE \n",
              "8  Jay-Z         Rap      1    2004   TRUE \n",
              "9  Drake         Rap      1    2008   TRUE \n",
              "10 Justin Bieber Pop      1    2009   TRUE "
            ]
          },
          "metadata": {}
        }
      ]
    },
    {
      "cell_type": "markdown",
      "source": [
        "## 5. Filter/Query a Data Frame (2 pts)\n",
        "\n",
        "Use the data frame you created above and show how to perform the following queries."
      ],
      "metadata": {
        "id": "nG5m-FIRydNU"
      }
    },
    {
      "cell_type": "code",
      "source": [
        "# Display the first 3 records and only the `artist`, `category` and `grammy` columns for each.\n",
        "\n",
        "head(df[c(1,2,5)], 3)\n",
        "\n"
      ],
      "metadata": {
        "id": "OlmbfFi6zSgR",
        "outputId": "0cb16545-03e5-4477-9222-4b8ad580c829",
        "colab": {
          "base_uri": "https://localhost:8080/",
          "height": 190
        }
      },
      "execution_count": 53,
      "outputs": [
        {
          "output_type": "display_data",
          "data": {
            "text/html": [
              "<table class=\"dataframe\">\n",
              "<caption>A data.frame: 3 × 3</caption>\n",
              "<thead>\n",
              "\t<tr><th></th><th scope=col>Artist</th><th scope=col>Category</th><th scope=col>Grammy</th></tr>\n",
              "\t<tr><th></th><th scope=col>&lt;chr&gt;</th><th scope=col>&lt;chr&gt;</th><th scope=col>&lt;lgl&gt;</th></tr>\n",
              "</thead>\n",
              "<tbody>\n",
              "\t<tr><th scope=row>1</th><td>Taylor Swift</td><td>Country</td><td> TRUE</td></tr>\n",
              "\t<tr><th scope=row>2</th><td>Katy Perry  </td><td>Pop    </td><td> TRUE</td></tr>\n",
              "\t<tr><th scope=row>3</th><td>The Weeknd  </td><td>Pop    </td><td>FALSE</td></tr>\n",
              "</tbody>\n",
              "</table>\n"
            ],
            "text/markdown": "\nA data.frame: 3 × 3\n\n| <!--/--> | Artist &lt;chr&gt; | Category &lt;chr&gt; | Grammy &lt;lgl&gt; |\n|---|---|---|---|\n| 1 | Taylor Swift | Country |  TRUE |\n| 2 | Katy Perry   | Pop     |  TRUE |\n| 3 | The Weeknd   | Pop     | FALSE |\n\n",
            "text/latex": "A data.frame: 3 × 3\n\\begin{tabular}{r|lll}\n  & Artist & Category & Grammy\\\\\n  & <chr> & <chr> & <lgl>\\\\\n\\hline\n\t1 & Taylor Swift & Country &  TRUE\\\\\n\t2 & Katy Perry   & Pop     &  TRUE\\\\\n\t3 & The Weeknd   & Pop     & FALSE\\\\\n\\end{tabular}\n",
            "text/plain": [
              "  Artist       Category Grammy\n",
              "1 Taylor Swift Country   TRUE \n",
              "2 Katy Perry   Pop       TRUE \n",
              "3 The Weeknd   Pop      FALSE "
            ]
          },
          "metadata": {}
        }
      ]
    },
    {
      "cell_type": "code",
      "source": [
        "# Display the records for just one musical category, such as only Rock bands or only Hip-hop bands.\n",
        "\n",
        "df[df$Category == 'Rock',]\n"
      ],
      "metadata": {
        "id": "-l_kpWSzzlhG",
        "outputId": "765eb8f9-f981-470f-e937-b74453b399a5",
        "colab": {
          "base_uri": "https://localhost:8080/",
          "height": 128
        }
      },
      "execution_count": 60,
      "outputs": [
        {
          "output_type": "display_data",
          "data": {
            "text/html": [
              "<table class=\"dataframe\">\n",
              "<caption>A data.frame: 1 × 5</caption>\n",
              "<thead>\n",
              "\t<tr><th></th><th scope=col>Artist</th><th scope=col>Category</th><th scope=col>Size</th><th scope=col>Start</th><th scope=col>Grammy</th></tr>\n",
              "\t<tr><th></th><th scope=col>&lt;chr&gt;</th><th scope=col>&lt;chr&gt;</th><th scope=col>&lt;dbl&gt;</th><th scope=col>&lt;dbl&gt;</th><th scope=col>&lt;lgl&gt;</th></tr>\n",
              "</thead>\n",
              "<tbody>\n",
              "\t<tr><th scope=row>6</th><td>Rascal Flatts</td><td>Rock</td><td>1</td><td>1989</td><td>FALSE</td></tr>\n",
              "</tbody>\n",
              "</table>\n"
            ],
            "text/markdown": "\nA data.frame: 1 × 5\n\n| <!--/--> | Artist &lt;chr&gt; | Category &lt;chr&gt; | Size &lt;dbl&gt; | Start &lt;dbl&gt; | Grammy &lt;lgl&gt; |\n|---|---|---|---|---|---|\n| 6 | Rascal Flatts | Rock | 1 | 1989 | FALSE |\n\n",
            "text/latex": "A data.frame: 1 × 5\n\\begin{tabular}{r|lllll}\n  & Artist & Category & Size & Start & Grammy\\\\\n  & <chr> & <chr> & <dbl> & <dbl> & <lgl>\\\\\n\\hline\n\t6 & Rascal Flatts & Rock & 1 & 1989 & FALSE\\\\\n\\end{tabular}\n",
            "text/plain": [
              "  Artist        Category Size Start Grammy\n",
              "6 Rascal Flatts Rock     1    1989  FALSE "
            ]
          },
          "metadata": {}
        }
      ]
    },
    {
      "cell_type": "markdown",
      "source": [
        "## Query a Data Frame using `tidyverse` (4 pts)\n",
        "\n",
        "1. Show how to load the library.\n",
        "2. Show how to glimpse basic features of the `starwars` data table.\n",
        "3. Create a query using tidyverse that retrieves the following data:\n",
        "    - Selects only these columns: `name`, `height`, `sex`, `species`.\n",
        "    - Filters for all species that are NOT Human.\n",
        "    - Arranges the resulting data in order by name.\n",
        "\n",
        "Show your output in a data frame."
      ],
      "metadata": {
        "id": "L-xnszjS0Byy"
      }
    },
    {
      "cell_type": "code",
      "source": [
        "#\n",
        "\n",
        "\n",
        "library(tidyverse)\n",
        "\n",
        "# str(starwars)\n",
        "# head(starwars)\n",
        "\n",
        "dataframe<- starwars %>%   # and-then\n",
        "  select(name, height, sex, species) %>%\n",
        "  filter(species != \"Human\") %>%\n",
        "  group_by(name)\n",
        "\n",
        "dataframe\n"
      ],
      "metadata": {
        "id": "yTMLzrxS0F4u",
        "outputId": "21f7b1f3-462f-4247-edbf-d95d2af7ab51",
        "colab": {
          "base_uri": "https://localhost:8080/",
          "height": 1000
        }
      },
      "execution_count": 70,
      "outputs": [
        {
          "output_type": "display_data",
          "data": {
            "text/html": [
              "<table class=\"dataframe\">\n",
              "<caption>A grouped_df: 48 × 4</caption>\n",
              "<thead>\n",
              "\t<tr><th scope=col>name</th><th scope=col>height</th><th scope=col>sex</th><th scope=col>species</th></tr>\n",
              "\t<tr><th scope=col>&lt;chr&gt;</th><th scope=col>&lt;int&gt;</th><th scope=col>&lt;chr&gt;</th><th scope=col>&lt;chr&gt;</th></tr>\n",
              "</thead>\n",
              "<tbody>\n",
              "\t<tr><td>C-3PO                </td><td>167</td><td>none          </td><td>Droid         </td></tr>\n",
              "\t<tr><td>R2-D2                </td><td> 96</td><td>none          </td><td>Droid         </td></tr>\n",
              "\t<tr><td>R5-D4                </td><td> 97</td><td>none          </td><td>Droid         </td></tr>\n",
              "\t<tr><td>Chewbacca            </td><td>228</td><td>male          </td><td>Wookiee       </td></tr>\n",
              "\t<tr><td>Greedo               </td><td>173</td><td>male          </td><td>Rodian        </td></tr>\n",
              "\t<tr><td>Jabba Desilijic Tiure</td><td>175</td><td>hermaphroditic</td><td>Hutt          </td></tr>\n",
              "\t<tr><td>Yoda                 </td><td> 66</td><td>male          </td><td>Yoda's species</td></tr>\n",
              "\t<tr><td>IG-88                </td><td>200</td><td>none          </td><td>Droid         </td></tr>\n",
              "\t<tr><td>Bossk                </td><td>190</td><td>male          </td><td>Trandoshan    </td></tr>\n",
              "\t<tr><td>Ackbar               </td><td>180</td><td>male          </td><td>Mon Calamari  </td></tr>\n",
              "\t<tr><td>Wicket Systri Warrick</td><td> 88</td><td>male          </td><td>Ewok          </td></tr>\n",
              "\t<tr><td>Nien Nunb            </td><td>160</td><td>male          </td><td>Sullustan     </td></tr>\n",
              "\t<tr><td>Nute Gunray          </td><td>191</td><td>male          </td><td>Neimodian     </td></tr>\n",
              "\t<tr><td>Jar Jar Binks        </td><td>196</td><td>male          </td><td>Gungan        </td></tr>\n",
              "\t<tr><td>Roos Tarpals         </td><td>224</td><td>male          </td><td>Gungan        </td></tr>\n",
              "\t<tr><td>Rugor Nass           </td><td>206</td><td>male          </td><td>Gungan        </td></tr>\n",
              "\t<tr><td>Watto                </td><td>137</td><td>male          </td><td>Toydarian     </td></tr>\n",
              "\t<tr><td>Sebulba              </td><td>112</td><td>male          </td><td>Dug           </td></tr>\n",
              "\t<tr><td>Darth Maul           </td><td>175</td><td>male          </td><td>Zabrak        </td></tr>\n",
              "\t<tr><td>Bib Fortuna          </td><td>180</td><td>male          </td><td>Twi'lek       </td></tr>\n",
              "\t<tr><td>Ayla Secura          </td><td>178</td><td>female        </td><td>Twi'lek       </td></tr>\n",
              "\t<tr><td>Dud Bolt             </td><td> 94</td><td>male          </td><td>Vulptereen    </td></tr>\n",
              "\t<tr><td>Gasgano              </td><td>122</td><td>male          </td><td>Xexto         </td></tr>\n",
              "\t<tr><td>Ben Quadinaros       </td><td>163</td><td>male          </td><td>Toong         </td></tr>\n",
              "\t<tr><td>Ki-Adi-Mundi         </td><td>198</td><td>male          </td><td>Cerean        </td></tr>\n",
              "\t<tr><td>Kit Fisto            </td><td>196</td><td>male          </td><td>Nautolan      </td></tr>\n",
              "\t<tr><td>Eeth Koth            </td><td>171</td><td>male          </td><td>Zabrak        </td></tr>\n",
              "\t<tr><td>Adi Gallia           </td><td>184</td><td>female        </td><td>Tholothian    </td></tr>\n",
              "\t<tr><td>Saesee Tiin          </td><td>188</td><td>male          </td><td>Iktotchi      </td></tr>\n",
              "\t<tr><td>Yarael Poof          </td><td>264</td><td>male          </td><td>Quermian      </td></tr>\n",
              "\t<tr><td>Plo Koon             </td><td>188</td><td>male          </td><td>Kel Dor       </td></tr>\n",
              "\t<tr><td>Mas Amedda           </td><td>196</td><td>male          </td><td>Chagrian      </td></tr>\n",
              "\t<tr><td>Poggle the Lesser    </td><td>183</td><td>male          </td><td>Geonosian     </td></tr>\n",
              "\t<tr><td>Luminara Unduli      </td><td>170</td><td>female        </td><td>Mirialan      </td></tr>\n",
              "\t<tr><td>Barriss Offee        </td><td>166</td><td>female        </td><td>Mirialan      </td></tr>\n",
              "\t<tr><td>Zam Wesell           </td><td>168</td><td>female        </td><td>Clawdite      </td></tr>\n",
              "\t<tr><td>Dexter Jettster      </td><td>198</td><td>male          </td><td>Besalisk      </td></tr>\n",
              "\t<tr><td>Lama Su              </td><td>229</td><td>male          </td><td>Kaminoan      </td></tr>\n",
              "\t<tr><td>Taun We              </td><td>213</td><td>female        </td><td>Kaminoan      </td></tr>\n",
              "\t<tr><td>Ratts Tyerell        </td><td> 79</td><td>male          </td><td>Aleena        </td></tr>\n",
              "\t<tr><td>R4-P17               </td><td> 96</td><td>none          </td><td>Droid         </td></tr>\n",
              "\t<tr><td>Wat Tambor           </td><td>193</td><td>male          </td><td>Skakoan       </td></tr>\n",
              "\t<tr><td>San Hill             </td><td>191</td><td>male          </td><td>Muun          </td></tr>\n",
              "\t<tr><td>Shaak Ti             </td><td>178</td><td>female        </td><td>Togruta       </td></tr>\n",
              "\t<tr><td>Grievous             </td><td>216</td><td>male          </td><td>Kaleesh       </td></tr>\n",
              "\t<tr><td>Tarfful              </td><td>234</td><td>male          </td><td>Wookiee       </td></tr>\n",
              "\t<tr><td>Tion Medon           </td><td>206</td><td>male          </td><td>Pau'an        </td></tr>\n",
              "\t<tr><td>BB8                  </td><td> NA</td><td>none          </td><td>Droid         </td></tr>\n",
              "</tbody>\n",
              "</table>\n"
            ],
            "text/markdown": "\nA grouped_df: 48 × 4\n\n| name &lt;chr&gt; | height &lt;int&gt; | sex &lt;chr&gt; | species &lt;chr&gt; |\n|---|---|---|---|\n| C-3PO                 | 167 | none           | Droid          |\n| R2-D2                 |  96 | none           | Droid          |\n| R5-D4                 |  97 | none           | Droid          |\n| Chewbacca             | 228 | male           | Wookiee        |\n| Greedo                | 173 | male           | Rodian         |\n| Jabba Desilijic Tiure | 175 | hermaphroditic | Hutt           |\n| Yoda                  |  66 | male           | Yoda's species |\n| IG-88                 | 200 | none           | Droid          |\n| Bossk                 | 190 | male           | Trandoshan     |\n| Ackbar                | 180 | male           | Mon Calamari   |\n| Wicket Systri Warrick |  88 | male           | Ewok           |\n| Nien Nunb             | 160 | male           | Sullustan      |\n| Nute Gunray           | 191 | male           | Neimodian      |\n| Jar Jar Binks         | 196 | male           | Gungan         |\n| Roos Tarpals          | 224 | male           | Gungan         |\n| Rugor Nass            | 206 | male           | Gungan         |\n| Watto                 | 137 | male           | Toydarian      |\n| Sebulba               | 112 | male           | Dug            |\n| Darth Maul            | 175 | male           | Zabrak         |\n| Bib Fortuna           | 180 | male           | Twi'lek        |\n| Ayla Secura           | 178 | female         | Twi'lek        |\n| Dud Bolt              |  94 | male           | Vulptereen     |\n| Gasgano               | 122 | male           | Xexto          |\n| Ben Quadinaros        | 163 | male           | Toong          |\n| Ki-Adi-Mundi          | 198 | male           | Cerean         |\n| Kit Fisto             | 196 | male           | Nautolan       |\n| Eeth Koth             | 171 | male           | Zabrak         |\n| Adi Gallia            | 184 | female         | Tholothian     |\n| Saesee Tiin           | 188 | male           | Iktotchi       |\n| Yarael Poof           | 264 | male           | Quermian       |\n| Plo Koon              | 188 | male           | Kel Dor        |\n| Mas Amedda            | 196 | male           | Chagrian       |\n| Poggle the Lesser     | 183 | male           | Geonosian      |\n| Luminara Unduli       | 170 | female         | Mirialan       |\n| Barriss Offee         | 166 | female         | Mirialan       |\n| Zam Wesell            | 168 | female         | Clawdite       |\n| Dexter Jettster       | 198 | male           | Besalisk       |\n| Lama Su               | 229 | male           | Kaminoan       |\n| Taun We               | 213 | female         | Kaminoan       |\n| Ratts Tyerell         |  79 | male           | Aleena         |\n| R4-P17                |  96 | none           | Droid          |\n| Wat Tambor            | 193 | male           | Skakoan        |\n| San Hill              | 191 | male           | Muun           |\n| Shaak Ti              | 178 | female         | Togruta        |\n| Grievous              | 216 | male           | Kaleesh        |\n| Tarfful               | 234 | male           | Wookiee        |\n| Tion Medon            | 206 | male           | Pau'an         |\n| BB8                   |  NA | none           | Droid          |\n\n",
            "text/latex": "A grouped\\_df: 48 × 4\n\\begin{tabular}{llll}\n name & height & sex & species\\\\\n <chr> & <int> & <chr> & <chr>\\\\\n\\hline\n\t C-3PO                 & 167 & none           & Droid         \\\\\n\t R2-D2                 &  96 & none           & Droid         \\\\\n\t R5-D4                 &  97 & none           & Droid         \\\\\n\t Chewbacca             & 228 & male           & Wookiee       \\\\\n\t Greedo                & 173 & male           & Rodian        \\\\\n\t Jabba Desilijic Tiure & 175 & hermaphroditic & Hutt          \\\\\n\t Yoda                  &  66 & male           & Yoda's species\\\\\n\t IG-88                 & 200 & none           & Droid         \\\\\n\t Bossk                 & 190 & male           & Trandoshan    \\\\\n\t Ackbar                & 180 & male           & Mon Calamari  \\\\\n\t Wicket Systri Warrick &  88 & male           & Ewok          \\\\\n\t Nien Nunb             & 160 & male           & Sullustan     \\\\\n\t Nute Gunray           & 191 & male           & Neimodian     \\\\\n\t Jar Jar Binks         & 196 & male           & Gungan        \\\\\n\t Roos Tarpals          & 224 & male           & Gungan        \\\\\n\t Rugor Nass            & 206 & male           & Gungan        \\\\\n\t Watto                 & 137 & male           & Toydarian     \\\\\n\t Sebulba               & 112 & male           & Dug           \\\\\n\t Darth Maul            & 175 & male           & Zabrak        \\\\\n\t Bib Fortuna           & 180 & male           & Twi'lek       \\\\\n\t Ayla Secura           & 178 & female         & Twi'lek       \\\\\n\t Dud Bolt              &  94 & male           & Vulptereen    \\\\\n\t Gasgano               & 122 & male           & Xexto         \\\\\n\t Ben Quadinaros        & 163 & male           & Toong         \\\\\n\t Ki-Adi-Mundi          & 198 & male           & Cerean        \\\\\n\t Kit Fisto             & 196 & male           & Nautolan      \\\\\n\t Eeth Koth             & 171 & male           & Zabrak        \\\\\n\t Adi Gallia            & 184 & female         & Tholothian    \\\\\n\t Saesee Tiin           & 188 & male           & Iktotchi      \\\\\n\t Yarael Poof           & 264 & male           & Quermian      \\\\\n\t Plo Koon              & 188 & male           & Kel Dor       \\\\\n\t Mas Amedda            & 196 & male           & Chagrian      \\\\\n\t Poggle the Lesser     & 183 & male           & Geonosian     \\\\\n\t Luminara Unduli       & 170 & female         & Mirialan      \\\\\n\t Barriss Offee         & 166 & female         & Mirialan      \\\\\n\t Zam Wesell            & 168 & female         & Clawdite      \\\\\n\t Dexter Jettster       & 198 & male           & Besalisk      \\\\\n\t Lama Su               & 229 & male           & Kaminoan      \\\\\n\t Taun We               & 213 & female         & Kaminoan      \\\\\n\t Ratts Tyerell         &  79 & male           & Aleena        \\\\\n\t R4-P17                &  96 & none           & Droid         \\\\\n\t Wat Tambor            & 193 & male           & Skakoan       \\\\\n\t San Hill              & 191 & male           & Muun          \\\\\n\t Shaak Ti              & 178 & female         & Togruta       \\\\\n\t Grievous              & 216 & male           & Kaleesh       \\\\\n\t Tarfful               & 234 & male           & Wookiee       \\\\\n\t Tion Medon            & 206 & male           & Pau'an        \\\\\n\t BB8                   &  NA & none           & Droid         \\\\\n\\end{tabular}\n",
            "text/plain": [
              "   name                  height sex            species       \n",
              "1  C-3PO                 167    none           Droid         \n",
              "2  R2-D2                  96    none           Droid         \n",
              "3  R5-D4                  97    none           Droid         \n",
              "4  Chewbacca             228    male           Wookiee       \n",
              "5  Greedo                173    male           Rodian        \n",
              "6  Jabba Desilijic Tiure 175    hermaphroditic Hutt          \n",
              "7  Yoda                   66    male           Yoda's species\n",
              "8  IG-88                 200    none           Droid         \n",
              "9  Bossk                 190    male           Trandoshan    \n",
              "10 Ackbar                180    male           Mon Calamari  \n",
              "11 Wicket Systri Warrick  88    male           Ewok          \n",
              "12 Nien Nunb             160    male           Sullustan     \n",
              "13 Nute Gunray           191    male           Neimodian     \n",
              "14 Jar Jar Binks         196    male           Gungan        \n",
              "15 Roos Tarpals          224    male           Gungan        \n",
              "16 Rugor Nass            206    male           Gungan        \n",
              "17 Watto                 137    male           Toydarian     \n",
              "18 Sebulba               112    male           Dug           \n",
              "19 Darth Maul            175    male           Zabrak        \n",
              "20 Bib Fortuna           180    male           Twi'lek       \n",
              "21 Ayla Secura           178    female         Twi'lek       \n",
              "22 Dud Bolt               94    male           Vulptereen    \n",
              "23 Gasgano               122    male           Xexto         \n",
              "24 Ben Quadinaros        163    male           Toong         \n",
              "25 Ki-Adi-Mundi          198    male           Cerean        \n",
              "26 Kit Fisto             196    male           Nautolan      \n",
              "27 Eeth Koth             171    male           Zabrak        \n",
              "28 Adi Gallia            184    female         Tholothian    \n",
              "29 Saesee Tiin           188    male           Iktotchi      \n",
              "30 Yarael Poof           264    male           Quermian      \n",
              "31 Plo Koon              188    male           Kel Dor       \n",
              "32 Mas Amedda            196    male           Chagrian      \n",
              "33 Poggle the Lesser     183    male           Geonosian     \n",
              "34 Luminara Unduli       170    female         Mirialan      \n",
              "35 Barriss Offee         166    female         Mirialan      \n",
              "36 Zam Wesell            168    female         Clawdite      \n",
              "37 Dexter Jettster       198    male           Besalisk      \n",
              "38 Lama Su               229    male           Kaminoan      \n",
              "39 Taun We               213    female         Kaminoan      \n",
              "40 Ratts Tyerell          79    male           Aleena        \n",
              "41 R4-P17                 96    none           Droid         \n",
              "42 Wat Tambor            193    male           Skakoan       \n",
              "43 San Hill              191    male           Muun          \n",
              "44 Shaak Ti              178    female         Togruta       \n",
              "45 Grievous              216    male           Kaleesh       \n",
              "46 Tarfful               234    male           Wookiee       \n",
              "47 Tion Medon            206    male           Pau'an        \n",
              "48 BB8                    NA    none           Droid         "
            ]
          },
          "metadata": {}
        }
      ]
    }
  ]
}