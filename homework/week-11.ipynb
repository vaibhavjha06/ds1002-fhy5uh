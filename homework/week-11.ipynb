{
  "nbformat": 4,
  "nbformat_minor": 0,
  "metadata": {
    "colab": {
      "provenance": [],
      "include_colab_link": true
    },
    "kernelspec": {
      "name": "python3",
      "display_name": "Python 3"
    },
    "language_info": {
      "name": "python"
    }
  },
  "cells": [
    {
      "cell_type": "markdown",
      "metadata": {
        "id": "view-in-github",
        "colab_type": "text"
      },
      "source": [
        "<a href=\"https://colab.research.google.com/github/vaibhavjha06/ds1002-fhy5uh/blob/main/homework/week-11.ipynb\" target=\"_parent\"><img src=\"https://colab.research.google.com/assets/colab-badge.svg\" alt=\"Open In Colab\"/></a>"
      ]
    },
    {
      "cell_type": "markdown",
      "source": [
        "# Homework - Error Handling & Recursion\n",
        "\n",
        "Complete the cells below. Pay close attention to all directions given.\n",
        "\n",
        "## Error Handling (3 pts)\n",
        "\n",
        "```\n",
        "def throw_me_an_error():\n",
        "  val1 = 14\n",
        "  val2 = 0\n",
        "  return val1 / val2\n",
        "\n",
        "throw_me_an_error()\n",
        "```\n",
        "\n",
        "The function above is designed to deliberately throw an error.\n",
        "\n",
        "Create a new version of the function but add `try` and `except` statements correctly. Your exception should print out the type of error this function created. There are a couple of different ways you could do this.\n"
      ],
      "metadata": {
        "id": "v14Xtd9oiTGF"
      }
    },
    {
      "cell_type": "code",
      "execution_count": 1,
      "metadata": {
        "id": "-dfq0Vo_iSi7",
        "outputId": "b5b17ffd-b3b8-485e-a97c-1a8737fd7b38",
        "colab": {
          "base_uri": "https://localhost:8080/"
        }
      },
      "outputs": [
        {
          "output_type": "stream",
          "name": "stdout",
          "text": [
            "An error has occurred: division by zero\n"
          ]
        }
      ],
      "source": [
        "# answer goes here.\n",
        "\n",
        "val1 = 14\n",
        "val2 = 0\n",
        "\n",
        "try:\n",
        "  val1/val2\n",
        "except Exception as e:\n",
        "  print(f\"An error has occurred: {e}\")\n"
      ]
    },
    {
      "cell_type": "markdown",
      "source": [
        "## Error Handling (4 pts)\n",
        "\n",
        "Extend the class below to include some error handling. Assume the remote resource is offline for a moment: How would you give a message to the user indicating what has gone wrong? (Hint: one way you can test this is by deliberately misspelling the URL for the remote resource.)\n",
        "\n",
        "Also, include error handling logic so that execution of the class method `guid()` always returns a line \"Your request has been completed\" along with the guid it created.\n",
        "\n",
        "```\n",
        "import requests\n",
        "import json\n",
        "import sys\n",
        "\n",
        "class Id:\n",
        "\n",
        "  def guid():\n",
        "    response = requests.get('https://ids.pods.uvarc.io/guid')\n",
        "    body = json.loads(response.text)\n",
        "    return body['id']\n",
        "\n",
        "Id.guid()\n",
        "```"
      ],
      "metadata": {
        "id": "gf9m78RWmWqC"
      }
    },
    {
      "cell_type": "code",
      "source": [
        "# answer goes here\n",
        "\n",
        "import requests\n",
        "import json\n",
        "import sys\n",
        "\n",
        "class Id:\n",
        "\n",
        "  def guid():\n",
        "    try:\n",
        "      response = requests.get('https://ids.pods.uvrc.io/guid')\n",
        "      body = json.loads(response.text)\n",
        "      return body['id'], \"Your request has been completed\"\n",
        "    except Exception as e:\n",
        "      print(f\"An exception has been caught: {e}\")\n",
        "\n",
        "Id.guid()\n"
      ],
      "metadata": {
        "id": "hT5B-LokmUbU",
        "outputId": "c65686cb-8891-4475-b406-9192aff40695",
        "colab": {
          "base_uri": "https://localhost:8080/"
        }
      },
      "execution_count": 12,
      "outputs": [
        {
          "output_type": "stream",
          "name": "stdout",
          "text": [
            "An exception has been caught: HTTPSConnectionPool(host='ids.pods.uvrc.io', port=443): Max retries exceeded with url: /guid (Caused by NameResolutionError(\"<urllib3.connection.HTTPSConnection object at 0x79992b140790>: Failed to resolve 'ids.pods.uvrc.io' ([Errno -2] Name or service not known)\"))\n"
          ]
        }
      ]
    },
    {
      "cell_type": "markdown",
      "source": [
        "## Recursive Functions (3 pts)\n",
        "\n",
        "In the cell below, explain line by line the logic of what is being calculated when the function is called with an input value of 2.\n",
        "\n",
        "```\n",
        "def squarer(n):\n",
        "  if n == 1:\n",
        "    return 2\n",
        "  else:\n",
        "    return squarer(n-1) ** 2 + n\n",
        "\n",
        "squarer(2)\n",
        "```"
      ],
      "metadata": {
        "id": "XCuNofSFomZ6"
      }
    },
    {
      "cell_type": "code",
      "source": [
        "# answer goes here. Add space as needed.\n",
        "\n",
        "def squarer(n):\n",
        "  if n == 1:\n",
        "    return 2\n",
        "  else:\n",
        "    return squarer(n-1) ** 2 + n\n",
        "\n",
        "squarer(2)\n",
        "\n",
        "Line 1. The recursive function squarer() is defined with one parameter of 'n'.\n",
        "Line 2. The if statement invokes a starting point of n=1, where, if so, the value returned should be 2\n",
        "Line 3. The return statement of 2 is a part of the if statement if n=1\n",
        "Line 4. An else statement is created for all other values of n\n",
        "Line 5. The squarer() function is called within its own function. The value of the function for parameter n-1 will be subsequently multiplied by 2 and added by n.\n",
        "Ultimately, the function is called on within itself to perform an evaluation.\n",
        "\n",
        "\n",
        "# I'm not sure if this was what you were looking for? There are five lines so I tried to explain the function's definition and excluded squarer(2).\n",
        "# Hope this was what you are looking for.\n",
        "\n",
        "\n"
      ],
      "metadata": {
        "id": "oYiqS2cxxXm4",
        "outputId": "a74047ef-e7ac-47dc-8fae-4726e5245f27",
        "colab": {
          "base_uri": "https://localhost:8080/"
        }
      },
      "execution_count": 15,
      "outputs": [
        {
          "output_type": "execute_result",
          "data": {
            "text/plain": [
              "6"
            ]
          },
          "metadata": {},
          "execution_count": 15
        }
      ]
    }
  ]
}