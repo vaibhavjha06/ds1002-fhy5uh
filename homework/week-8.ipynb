{
  "nbformat": 4,
  "nbformat_minor": 0,
  "metadata": {
    "colab": {
      "provenance": [],
      "include_colab_link": true
    },
    "kernelspec": {
      "name": "python3",
      "display_name": "Python 3"
    },
    "language_info": {
      "name": "python"
    }
  },
  "cells": [
    {
      "cell_type": "markdown",
      "metadata": {
        "id": "view-in-github",
        "colab_type": "text"
      },
      "source": [
        "<a href=\"https://colab.research.google.com/github/vaibhavjha06/ds1002-fhy5uh/blob/main/homework/week-8.ipynb\" target=\"_parent\"><img src=\"https://colab.research.google.com/assets/colab-badge.svg\" alt=\"Open In Colab\"/></a>"
      ]
    },
    {
      "cell_type": "markdown",
      "source": [
        "## While-Loops\n",
        "\n",
        "Perform the following steps in code:\n",
        "1. Define a variable and populate it with `0`.\n",
        "2. Create a while statement that evaluates whether that variable is less than or equal to `20`.\n",
        "3. Within the while loop evaluate if the variable value is even or odd.\n",
        "4. Within the while loop, if the variable value is even, print it. If not, do not print it.\n",
        "5. Within the while loop, finally add `1` to the variable before it repeats."
      ],
      "metadata": {
        "id": "But1V5T5qWJG"
      }
    },
    {
      "cell_type": "code",
      "source": [
        "# code here\n",
        "\n",
        "helloprof = 0\n",
        "\n",
        "while helloprof <= 20:\n",
        "  if helloprof % 2 == 0:\n",
        "    print('this value is even')\n",
        "  else:\n",
        "    continue\n",
        "  helloprof = helloprof + 1\n",
        ""
      ],
      "metadata": {
        "id": "GyQTkbqUq6SQ"
      },
      "execution_count": null,
      "outputs": []
    },
    {
      "cell_type": "markdown",
      "source": [
        "## For-Loops with Lists"
      ],
      "metadata": {
        "id": "ghRg1MRwoXvD"
      }
    },
    {
      "cell_type": "code",
      "source": [
        "# Use this list in the exercises below\n",
        "\n",
        "mylist = [9, 15, 23, 4, 92, 47, 33, 17, -4, 18, 38, -242]"
      ],
      "metadata": {
        "id": "G0PaWRBuoZdQ"
      },
      "execution_count": 4,
      "outputs": []
    },
    {
      "cell_type": "code",
      "source": [
        "# Write a command to print out all the values of this list\n",
        "# EXCEPT for any negative values. Omit them from the printing.\n",
        "\n",
        "for numbers in mylist:\n",
        "  if numbers < 0:\n",
        "    continue\n",
        "  else:\n",
        "    print(numbers)\n"
      ],
      "metadata": {
        "id": "hzoe9vw3phWs",
        "outputId": "a9fb59e2-c8d9-466b-9de0-4e16cadd8a1c",
        "colab": {
          "base_uri": "https://localhost:8080/"
        }
      },
      "execution_count": 10,
      "outputs": [
        {
          "output_type": "stream",
          "name": "stdout",
          "text": [
            "9\n",
            "15\n",
            "23\n",
            "4\n",
            "92\n",
            "47\n",
            "33\n",
            "17\n",
            "18\n",
            "38\n"
          ]
        }
      ]
    },
    {
      "cell_type": "code",
      "source": [
        "# Repeat the command from above, but this time get\n",
        "# the absolute value of any negative values in the list\n",
        "# and print those with the other items.\n",
        "\n",
        "for numbers in mylist:\n",
        "  if numbers < 0:\n",
        "    print(abs(numbers))\n",
        "  else:\n",
        "    print(numbers)\n"
      ],
      "metadata": {
        "id": "IE1-XLNrpnvy",
        "outputId": "696f272c-05dc-4f6c-99a1-ad4e4a2ed794",
        "colab": {
          "base_uri": "https://localhost:8080/"
        }
      },
      "execution_count": 11,
      "outputs": [
        {
          "output_type": "stream",
          "name": "stdout",
          "text": [
            "9\n",
            "15\n",
            "23\n",
            "4\n",
            "92\n",
            "47\n",
            "33\n",
            "17\n",
            "4\n",
            "18\n",
            "38\n",
            "242\n"
          ]
        }
      ]
    },
    {
      "cell_type": "code",
      "source": [
        "# Similar to above, write a command to print out items in\n",
        "# the list but omit any values greater than 20 and less than 40.\n",
        "\n",
        "for numbers in mylist:\n",
        "  if 20 < numbers < 40:\n",
        "    print(numbers)\n",
        "  else:\n",
        "    continue\n"
      ],
      "metadata": {
        "id": "rC38pZowp4LX",
        "outputId": "a2bf24b5-2192-486f-b1bd-7773288449f3",
        "colab": {
          "base_uri": "https://localhost:8080/"
        }
      },
      "execution_count": 12,
      "outputs": [
        {
          "output_type": "stream",
          "name": "stdout",
          "text": [
            "23\n",
            "33\n",
            "38\n"
          ]
        }
      ]
    },
    {
      "cell_type": "markdown",
      "source": [
        "## For-Loops with Dictionaries"
      ],
      "metadata": {
        "id": "BD1Wg4oSSEdz"
      }
    },
    {
      "cell_type": "code",
      "source": [
        "capitals = {'United States':'Washington DC',\n",
        "          'Italy':'Rome',\n",
        "          'England':'London',\n",
        "          'Thailand':'Bangkok',\n",
        "          'Brazil':'Brasilia'}"
      ],
      "metadata": {
        "id": "9DpHR_WzSGA8"
      },
      "execution_count": 15,
      "outputs": []
    },
    {
      "cell_type": "code",
      "source": [
        "# Write a command to print out all the keys of this dict\n",
        "\n",
        "for countries in capitals:\n",
        "  print(countries)\n"
      ],
      "metadata": {
        "id": "Iy_i6RE3S1ta",
        "outputId": "17cacad7-7f1b-4bfb-927c-bb5f76ca3171",
        "colab": {
          "base_uri": "https://localhost:8080/"
        }
      },
      "execution_count": 16,
      "outputs": [
        {
          "output_type": "stream",
          "name": "stdout",
          "text": [
            "United States\n",
            "Italy\n",
            "England\n",
            "Thailand\n",
            "Brazil\n"
          ]
        }
      ]
    },
    {
      "cell_type": "code",
      "source": [
        "# Write a command to print out all the values of this dict\n",
        "\n",
        "for countries in capitals:\n",
        "  print(capitals[countries])\n"
      ],
      "metadata": {
        "id": "eYNBRQAsS95v",
        "outputId": "754d8d5c-661d-45b9-ceba-3f26d7d85498",
        "colab": {
          "base_uri": "https://localhost:8080/"
        }
      },
      "execution_count": 17,
      "outputs": [
        {
          "output_type": "stream",
          "name": "stdout",
          "text": [
            "Washington DC\n",
            "Rome\n",
            "London\n",
            "Bangkok\n",
            "Brasilia\n"
          ]
        }
      ]
    },
    {
      "cell_type": "code",
      "source": [
        "# Write a command to print all the keys and values for this dict\n",
        "\n",
        "print(capitals)"
      ],
      "metadata": {
        "id": "b1KYFdDxSH7X",
        "outputId": "8b5f25be-e34b-4008-dc38-83296cfc92a6",
        "colab": {
          "base_uri": "https://localhost:8080/"
        }
      },
      "execution_count": 18,
      "outputs": [
        {
          "output_type": "stream",
          "name": "stdout",
          "text": [
            "{'United States': 'Washington DC', 'Italy': 'Rome', 'England': 'London', 'Thailand': 'Bangkok', 'Brazil': 'Brasilia'}\n"
          ]
        }
      ]
    },
    {
      "cell_type": "code",
      "source": [
        "# Write a command to print only the first three values and NOTHING more.\n",
        "\n",
        "list(capitals.items())[:3]\n",
        "\n",
        "\n"
      ],
      "metadata": {
        "id": "pun10Fq2oonQ",
        "outputId": "4828000a-ce0e-410e-afc3-58231bb15dfe",
        "colab": {
          "base_uri": "https://localhost:8080/"
        }
      },
      "execution_count": 33,
      "outputs": [
        {
          "output_type": "execute_result",
          "data": {
            "text/plain": [
              "[('United States', 'Washington DC'), ('Italy', 'Rome'), ('England', 'London')]"
            ]
          },
          "metadata": {},
          "execution_count": 33
        }
      ]
    }
  ]
}